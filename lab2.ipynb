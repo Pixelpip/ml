{
 "cells": [
  {
   "cell_type": "code",
   "execution_count": 3,
   "id": "ae65de2e-95eb-47ea-82d9-f910ce48a5de",
   "metadata": {},
   "outputs": [
    {
     "name": "stdout",
     "output_type": "stream",
     "text": [
      "Dataset Info:\n",
      "<class 'pandas.core.frame.DataFrame'>\n",
      "RangeIndex: 20640 entries, 0 to 20639\n",
      "Data columns (total 9 columns):\n",
      " #   Column       Non-Null Count  Dtype  \n",
      "---  ------       --------------  -----  \n",
      " 0   MedInc       20640 non-null  float64\n",
      " 1   HouseAge     20640 non-null  float64\n",
      " 2   AveRooms     20640 non-null  float64\n",
      " 3   AveBedrms    20640 non-null  float64\n",
      " 4   Population   20640 non-null  float64\n",
      " 5   AveOccup     20640 non-null  float64\n",
      " 6   Latitude     20640 non-null  float64\n",
      " 7   Longitude    20640 non-null  float64\n",
      " 8   MedHouseVal  20640 non-null  float64\n",
      "dtypes: float64(9)\n",
      "memory usage: 1.4 MB\n",
      "None\n",
      "\n",
      "First 5 rows:\n",
      "   MedInc  HouseAge  AveRooms  AveBedrms  Population  AveOccup  Latitude  \\\n",
      "0  8.3252      41.0  6.984127   1.023810       322.0  2.555556     37.88   \n",
      "1  8.3014      21.0  6.238137   0.971880      2401.0  2.109842     37.86   \n",
      "2  7.2574      52.0  8.288136   1.073446       496.0  2.802260     37.85   \n",
      "3  5.6431      52.0  5.817352   1.073059       558.0  2.547945     37.85   \n",
      "4  3.8462      52.0  6.281853   1.081081       565.0  2.181467     37.85   \n",
      "\n",
      "   Longitude  MedHouseVal  \n",
      "0    -122.23        4.526  \n",
      "1    -122.22        3.585  \n",
      "2    -122.24        3.521  \n",
      "3    -122.25        3.413  \n",
      "4    -122.25        3.422  \n",
      "\n",
      "Correlation Matrix:\n",
      "               MedInc  HouseAge  AveRooms  AveBedrms  Population  AveOccup  \\\n",
      "MedInc       1.000000 -0.119034  0.326895  -0.062040    0.004834  0.018766   \n",
      "HouseAge    -0.119034  1.000000 -0.153277  -0.077747   -0.296244  0.013191   \n",
      "AveRooms     0.326895 -0.153277  1.000000   0.847621   -0.072213 -0.004852   \n",
      "AveBedrms   -0.062040 -0.077747  0.847621   1.000000   -0.066197 -0.006181   \n",
      "Population   0.004834 -0.296244 -0.072213  -0.066197    1.000000  0.069863   \n",
      "AveOccup     0.018766  0.013191 -0.004852  -0.006181    0.069863  1.000000   \n",
      "Latitude    -0.079809  0.011173  0.106389   0.069721   -0.108785  0.002366   \n",
      "Longitude   -0.015176 -0.108197 -0.027540   0.013344    0.099773  0.002476   \n",
      "MedHouseVal  0.688075  0.105623  0.151948  -0.046701   -0.024650 -0.023737   \n",
      "\n",
      "             Latitude  Longitude  MedHouseVal  \n",
      "MedInc      -0.079809  -0.015176     0.688075  \n",
      "HouseAge     0.011173  -0.108197     0.105623  \n",
      "AveRooms     0.106389  -0.027540     0.151948  \n",
      "AveBedrms    0.069721   0.013344    -0.046701  \n",
      "Population  -0.108785   0.099773    -0.024650  \n",
      "AveOccup     0.002366   0.002476    -0.023737  \n",
      "Latitude     1.000000  -0.924664    -0.144160  \n",
      "Longitude   -0.924664   1.000000    -0.045967  \n",
      "MedHouseVal -0.144160  -0.045967     1.000000  \n"
     ]
    }
   ],
   "source": [
    "import matplotlib\n",
    "# Switch to an alternative backend. Use 'Agg' for non-interactive or 'Qt5Agg' for interactive (if PyQt5 is installed)\n",
    "matplotlib.use('Agg')  # Change this to 'Qt5Agg' if you prefer interactive windows\n",
    "\n",
    "import matplotlib.pyplot as plt\n",
    "import seaborn as sns\n",
    "import pandas as pd\n",
    "from sklearn.datasets import fetch_california_housing\n",
    "# Read the CSV file into a DataFrame\n",
    "\n",
    "\n",
    "# -------------------------------\n",
    "# 1. Load the California Housing Dataset\n",
    "# -------------------------------\n",
    "housing = fetch_california_housing(as_frame=True)\n",
    "df = housing.frame  # DataFrame containing the features\n",
    "\n",
    "# Optional: Print dataset info and first few rows to inspect the data\n",
    "print(\"Dataset Info:\")\n",
    "print(df.info())\n",
    "print(\"\\nFirst 5 rows:\")\n",
    "print(df.head())\n",
    "\n",
    "# -------------------------------\n",
    "# 2. Compute the Correlation Matrix\n",
    "# -------------------------------\n",
    "corr_matrix = df.corr()\n",
    "print(\"\\nCorrelation Matrix:\")\n",
    "print(corr_matrix)\n",
    "\n",
    "# -------------------------------\n",
    "# 3. Visualize the Correlation Matrix using a Heatmap\n",
    "# -------------------------------\n",
    "plt.figure(figsize=(12, 8))\n",
    "sns.heatmap(corr_matrix, annot=True, cmap='coolwarm', fmt=\".2f\")\n",
    "plt.title(\"Correlation Matrix of California Housing Features\")\n",
    "plt.savefig(\"heatmap.tiff\")  # Saves the plot to a file\n",
    "plt.close()\n"
   ]
  },
  {
   "cell_type": "code",
   "execution_count": 5,
   "id": "f7ae8dc1-214d-4266-8f25-ae48e6ba8676",
   "metadata": {},
   "outputs": [
    {
     "data": {
      "text/plain": [
       "'/home/pc480/programming/rough/ml_lab'"
      ]
     },
     "execution_count": 5,
     "metadata": {},
     "output_type": "execute_result"
    }
   ],
   "source": [
    "import os\n",
    "os.getcwd()"
   ]
  },
  {
   "cell_type": "code",
   "execution_count": 12,
   "id": "0d4616d1-7d98-44e5-9def-4a7e7661f73e",
   "metadata": {},
   "outputs": [
    {
     "ename": "TypeError",
     "evalue": "pairplot() got an unexpected keyword argument 'diag'",
     "output_type": "error",
     "traceback": [
      "\u001b[0;31m---------------------------------------------------------------------------\u001b[0m",
      "\u001b[0;31mTypeError\u001b[0m                                 Traceback (most recent call last)",
      "Cell \u001b[0;32mIn[12], line 1\u001b[0m\n\u001b[0;32m----> 1\u001b[0m g\u001b[38;5;241m=\u001b[39m\u001b[43msns\u001b[49m\u001b[38;5;241;43m.\u001b[39;49m\u001b[43mpairplot\u001b[49m\u001b[43m(\u001b[49m\u001b[43mdf\u001b[49m\u001b[43m,\u001b[49m\u001b[43mdiag\u001b[49m\u001b[38;5;241;43m=\u001b[39;49m\u001b[38;5;124;43m'\u001b[39;49m\u001b[38;5;124;43mkde\u001b[39;49m\u001b[38;5;124;43m'\u001b[39;49m\u001b[43m)\u001b[49m\n\u001b[1;32m      2\u001b[0m g\u001b[38;5;241m.\u001b[39mfig\u001b[38;5;241m.\u001b[39msuptitle(\u001b[38;5;124m\"\u001b[39m\u001b[38;5;124mpair plot\u001b[39m\u001b[38;5;124m\"\u001b[39m)\n\u001b[1;32m      3\u001b[0m plt\u001b[38;5;241m.\u001b[39msavefig(\u001b[38;5;124m\"\u001b[39m\u001b[38;5;124mpairplot2.jpg\u001b[39m\u001b[38;5;124m\"\u001b[39m)\n",
      "\u001b[0;31mTypeError\u001b[0m: pairplot() got an unexpected keyword argument 'diag'"
     ]
    }
   ],
   "source": [
    "g=sns.pairplot(df,diag='kde')\n",
    "g.fig.suptitle(\"pair plot\")\n",
    "plt.savefig(\"pairplot2.jpg\")\n",
    "plt.show()\n",
    "plt.close()"
   ]
  },
  {
   "cell_type": "code",
   "execution_count": null,
   "id": "f7018261-ae61-4036-8f46-3849e0dca0f8",
   "metadata": {},
   "outputs": [],
   "source": []
  }
 ],
 "metadata": {
  "kernelspec": {
   "display_name": "Python 3 (ipykernel)",
   "language": "python",
   "name": "python3"
  },
  "language_info": {
   "codemirror_mode": {
    "name": "ipython",
    "version": 3
   },
   "file_extension": ".py",
   "mimetype": "text/x-python",
   "name": "python",
   "nbconvert_exporter": "python",
   "pygments_lexer": "ipython3",
   "version": "3.10.12"
  }
 },
 "nbformat": 4,
 "nbformat_minor": 5
}
