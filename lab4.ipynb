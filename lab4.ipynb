{
 "cells": [
  {
   "cell_type": "code",
   "execution_count": 1,
   "id": "0963801b-a9e3-4e39-9dd7-4b9e6bec85fa",
   "metadata": {},
   "outputs": [],
   "source": [
    "import pandas as pd\n",
    "import numpy as np\n",
    "df=pd.read_csv('/home/pc480/Downloads/training_find_s.csv')"
   ]
  },
  {
   "cell_type": "code",
   "execution_count": 2,
   "id": "9ac329a6-5a64-4286-9b1b-a43bb7ce988f",
   "metadata": {},
   "outputs": [
    {
     "name": "stdout",
     "output_type": "stream",
     "text": [
      "['>=9' 'Yes' 'Excellent' 'Good' 'Fast' 'Yes']\n"
     ]
    }
   ],
   "source": [
    "att=np.array(df)[:,:-1]\n",
    "target=np.array(df)[:,-1]\n",
    "def find_s_algorithm(attributes,target):\n",
    "    for i,val in enumerate(target):\n",
    "        if val.lower()=='yes':\n",
    "            specific_hypothesis=att[i].copy()\n",
    "            break\n",
    "    for i ,instance in enumerate(att):\n",
    "        if target[i].lower=='yes':\n",
    "            for att_index in range(len(specific_hypothesis)):\n",
    "                if instance[att_index]!=specific_hypothesis[att_index]:\n",
    "                    spcific_hypothesis[att_index]='?'\n",
    "    return specific_hypothesis\n",
    "final=find_s_algorithm(att,target)\n",
    "print(final)"
   ]
  },
  {
   "cell_type": "code",
   "execution_count": null,
   "id": "0cde2192-35f5-4dec-a014-3f2150994f40",
   "metadata": {},
   "outputs": [],
   "source": []
  }
 ],
 "metadata": {
  "kernelspec": {
   "display_name": "Python 3 (ipykernel)",
   "language": "python",
   "name": "python3"
  },
  "language_info": {
   "codemirror_mode": {
    "name": "ipython",
    "version": 3
   },
   "file_extension": ".py",
   "mimetype": "text/x-python",
   "name": "python",
   "nbconvert_exporter": "python",
   "pygments_lexer": "ipython3",
   "version": "3.10.12"
  }
 },
 "nbformat": 4,
 "nbformat_minor": 5
}
